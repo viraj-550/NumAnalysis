{
 "cells": [
  {
   "cell_type": "code",
   "execution_count": 1,
   "metadata": {},
   "outputs": [],
   "source": [
    "import numpy as np\n",
    "from src import root"
   ]
  },
  {
   "cell_type": "code",
   "execution_count": 2,
   "metadata": {},
   "outputs": [
    {
     "data": {
      "text/latex": [
       "$x \\mapsto \\text{-4.0}\\color{LightGray}{ + \\text{0.0}\\,x} + \\text{1.0}\\,x^{2}$"
      ],
      "text/plain": [
       "Polynomial([-4.,  0.,  1.], domain=[-1,  1], window=[-1,  1])"
      ]
     },
     "execution_count": 2,
     "metadata": {},
     "output_type": "execute_result"
    }
   ],
   "source": [
    "k = np.polynomial.Polynomial([-4, 0, 1])\n",
    "k"
   ]
  },
  {
   "cell_type": "code",
   "execution_count": 2,
   "metadata": {},
   "outputs": [
    {
     "data": {
      "text/plain": [
       "array([1, 4, 9])"
      ]
     },
     "execution_count": 2,
     "metadata": {},
     "output_type": "execute_result"
    }
   ],
   "source": [
    "import numpy as np\n",
    "\n",
    "np.array([1,2,3]) ** 2"
   ]
  },
  {
   "cell_type": "code",
   "execution_count": 4,
   "metadata": {},
   "outputs": [],
   "source": [
    "\n",
    "import numpy as np\n",
    "import json\n",
    "from src.polynomial import Legendre\n",
    "\n",
    "class Gaussian:\n",
    "    \"\"\"\n",
    "    Gaussian Quadrature Method:\n",
    "\n",
    "    Approximate \\int_a ^b f(x) \\dx using legendre polynomials. \n",
    "    \n",
    "    This method yields greater accuracy than the trapezoid or simpson method as the\n",
    "    points for evaluation are chosen optimally, rather than equally spaced. \n",
    "    For a faster implementation, the legendre polynomial (of degree 20) roots and weights are\n",
    "    stored in a .json file, and imported directly here. \n",
    "\n",
    "    To use legendre polynomials of degree greater than 20 use `polynomial.Legendre.roots_weights(degree)`\n",
    "\n",
    "    Parameters\n",
    "    ----------\n",
    "\n",
    "    fun : callable\n",
    "        Function f(x) to be integrated\n",
    "    bounds : array_like\n",
    "        Upper and lower bound of the form [a, b]\n",
    "    degree: int\n",
    "        Degree of the polynomial to choose the points [x0, x1, .., x_k]\n",
    "\n",
    "    Returns\n",
    "    -------\n",
    "    integral : float\n",
    "        Approximation of the integral\n",
    "    \"\"\"\n",
    "    \n",
    "\n",
    "    def __init__(self, fun, bounds, degree, use_saved_weights = False):\n",
    "\n",
    "        self.a = bounds[0]\n",
    "        self.b = bounds[1]\n",
    "        self.fun = fun\n",
    "        self.n = degree\n",
    "        self.saved_weights = use_saved_weights\n",
    "        self._leg_roots_weights = self._get_legendre_roots_weights()\n",
    "        \n",
    "    \n",
    "    def _get_legendre_roots_weights(self):\n",
    "\n",
    "        if self.saved_weights:\n",
    "\n",
    "            read_json = open(\"legendre_roots_weights.json\")\n",
    "            json_data = json.load(read_json)\n",
    "            read_json.close()\n",
    "\n",
    "            return json_data\n",
    "        \n",
    "\n",
    "        leg_roots_weights = Legendre(self.n).roots_weights(save_file = False)\n",
    "        return leg_roots_weights\n",
    "    \n",
    "    def fit(self):\n",
    "\n",
    "        quad_sum = 0\n",
    "        \n",
    "        for root, weight in self._leg_roots_weights.items():\n",
    "\n",
    "            c_i = float(weight)\n",
    "            root = float(root)\n",
    "\n",
    "            # rescale [a, b] into [-1, 1]\n",
    "            evaulated_fun = float(self.fun(((self.b - self.a) * root + self.a + self.b) / 2) * ((self.b - self.a)) / 2 )\n",
    "\n",
    "            quad_sum += c_i * evaulated_fun\n",
    "        \n",
    "        return float(quad_sum)"
   ]
  },
  {
   "cell_type": "code",
   "execution_count": 5,
   "metadata": {},
   "outputs": [],
   "source": [
    "f = lambda x: 2 * x + 4 * x ** 2\n",
    "\n",
    "gauss = Gaussian(f, [0, 2], 3).fit()\n",
    "result = Gaussian(f, [0, 5], 2)\n",
    "#self.assertAlmostEqual(result, 191.6666666667, delta=1e-2) \n"
   ]
  },
  {
   "cell_type": "code",
   "execution_count": 6,
   "metadata": {},
   "outputs": [
    {
     "data": {
      "text/plain": [
       "191.6666677389511"
      ]
     },
     "execution_count": 6,
     "metadata": {},
     "output_type": "execute_result"
    }
   ],
   "source": [
    "result.fit()"
   ]
  },
  {
   "cell_type": "code",
   "execution_count": 7,
   "metadata": {},
   "outputs": [
    {
     "name": "stdout",
     "output_type": "stream",
     "text": [
      "-0.57735027661863, 1.0\n",
      "0.57735027661863, 1.0\n"
     ]
    }
   ],
   "source": [
    "for root, weight in result._leg_roots_weights.items():\n",
    "    \n",
    "    root = float(root)\n",
    "    c_i = float(weight)\n",
    "    print(f\"{root}, {c_i}\")"
   ]
  },
  {
   "cell_type": "code",
   "execution_count": 9,
   "metadata": {},
   "outputs": [
    {
     "name": "stdout",
     "output_type": "stream",
     "text": [
      "[0. 1. 1.]\n"
     ]
    },
    {
     "ename": "GeneratorsNeeded",
     "evalue": "Cannot initialize from 'list' without generators",
     "output_type": "error",
     "traceback": [
      "\u001b[0;31m---------------------------------------------------------------------------\u001b[0m",
      "\u001b[0;31mGeneratorsNeeded\u001b[0m                          Traceback (most recent call last)",
      "\u001b[1;32m/Users/virajchordiya/Website_Projects/Numerical_Methods/test.ipynb Cell 8\u001b[0m line \u001b[0;36m8\n\u001b[1;32m      <a href='vscode-notebook-cell:/Users/virajchordiya/Website_Projects/Numerical_Methods/test.ipynb#W6sZmlsZQ%3D%3D?line=4'>5</a>\u001b[0m poly \u001b[39m=\u001b[39m np\u001b[39m.\u001b[39mpolynomial\u001b[39m.\u001b[39mPolynomial([\u001b[39m0\u001b[39m, \u001b[39m1\u001b[39m, \u001b[39m1\u001b[39m])\n\u001b[1;32m      <a href='vscode-notebook-cell:/Users/virajchordiya/Website_Projects/Numerical_Methods/test.ipynb#W6sZmlsZQ%3D%3D?line=5'>6</a>\u001b[0m \u001b[39mprint\u001b[39m(poly\u001b[39m.\u001b[39mcoef)\n\u001b[0;32m----> <a href='vscode-notebook-cell:/Users/virajchordiya/Website_Projects/Numerical_Methods/test.ipynb#W6sZmlsZQ%3D%3D?line=7'>8</a>\u001b[0m \u001b[39mprint\u001b[39m(sympy\u001b[39m.\u001b[39;49mPoly(poly\u001b[39m.\u001b[39;49mcoef))\n",
      "File \u001b[0;32m/Library/Frameworks/Python.framework/Versions/3.11/lib/python3.11/site-packages/sympy/polys/polytools.py:175\u001b[0m, in \u001b[0;36mPoly.__new__\u001b[0;34m(cls, rep, *gens, **args)\u001b[0m\n\u001b[1;32m    173\u001b[0m         \u001b[39mreturn\u001b[39;00m \u001b[39mcls\u001b[39m\u001b[39m.\u001b[39m_from_dict(rep, opt)\n\u001b[1;32m    174\u001b[0m     \u001b[39melse\u001b[39;00m:\n\u001b[0;32m--> 175\u001b[0m         \u001b[39mreturn\u001b[39;00m \u001b[39mcls\u001b[39;49m\u001b[39m.\u001b[39;49m_from_list(\u001b[39mlist\u001b[39;49m(rep), opt)\n\u001b[1;32m    176\u001b[0m \u001b[39melse\u001b[39;00m:\n\u001b[1;32m    177\u001b[0m     rep \u001b[39m=\u001b[39m sympify(rep)\n",
      "File \u001b[0;32m/Library/Frameworks/Python.framework/Versions/3.11/lib/python3.11/site-packages/sympy/polys/polytools.py:269\u001b[0m, in \u001b[0;36mPoly._from_list\u001b[0;34m(cls, rep, opt)\u001b[0m\n\u001b[1;32m    266\u001b[0m gens \u001b[39m=\u001b[39m opt\u001b[39m.\u001b[39mgens\n\u001b[1;32m    268\u001b[0m \u001b[39mif\u001b[39;00m \u001b[39mnot\u001b[39;00m gens:\n\u001b[0;32m--> 269\u001b[0m     \u001b[39mraise\u001b[39;00m GeneratorsNeeded(\n\u001b[1;32m    270\u001b[0m         \u001b[39m\"\u001b[39m\u001b[39mCannot initialize from \u001b[39m\u001b[39m'\u001b[39m\u001b[39mlist\u001b[39m\u001b[39m'\u001b[39m\u001b[39m without generators\u001b[39m\u001b[39m\"\u001b[39m)\n\u001b[1;32m    271\u001b[0m \u001b[39melif\u001b[39;00m \u001b[39mlen\u001b[39m(gens) \u001b[39m!=\u001b[39m \u001b[39m1\u001b[39m:\n\u001b[1;32m    272\u001b[0m     \u001b[39mraise\u001b[39;00m MultivariatePolynomialError(\n\u001b[1;32m    273\u001b[0m         \u001b[39m\"\u001b[39m\u001b[39m'\u001b[39m\u001b[39mlist\u001b[39m\u001b[39m'\u001b[39m\u001b[39m representation not supported\u001b[39m\u001b[39m\"\u001b[39m)\n",
      "\u001b[0;31mGeneratorsNeeded\u001b[0m: Cannot initialize from 'list' without generators"
     ]
    }
   ],
   "source": [
    "import sympy\n",
    "import numpy as np\n",
    "\n",
    "x = sympy.symbols(\"x\")\n",
    "poly = np.polynomial.Polynomial([0, 1, 1])\n",
    "print(poly.coef)\n",
    "\n",
    "print(sympy.Poly(poly.coef))"
   ]
  }
 ],
 "metadata": {
  "kernelspec": {
   "display_name": "Python 3",
   "language": "python",
   "name": "python3"
  },
  "language_info": {
   "codemirror_mode": {
    "name": "ipython",
    "version": 3
   },
   "file_extension": ".py",
   "mimetype": "text/x-python",
   "name": "python",
   "nbconvert_exporter": "python",
   "pygments_lexer": "ipython3",
   "version": "3.11.1"
  },
  "orig_nbformat": 4
 },
 "nbformat": 4,
 "nbformat_minor": 2
}
